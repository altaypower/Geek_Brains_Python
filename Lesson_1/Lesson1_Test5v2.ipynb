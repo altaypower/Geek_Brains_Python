{
 "cells": [
  {
   "cell_type": "markdown",
   "metadata": {},
   "source": [
    "Запросите у пользователя значения выручки и издержек фирмы. Определите, с каким финансовым результатом работает фирма (прибыль — выручка больше издержек, или убыток — издержки больше выручки). Выведите соответствующее сообщение. Если фирма отработала с прибылью, вычислите рентабельность выручки (соотношение прибыли к выручке). Далее запросите численность сотрудников фирмы и определите прибыль фирмы в расчете на одного сотрудника."
   ]
  },
  {
   "cell_type": "code",
   "execution_count": 4,
   "metadata": {
    "colab": {
     "base_uri": "https://localhost:8080/",
     "height": 35
    },
    "colab_type": "code",
    "executionInfo": {
     "elapsed": 7582,
     "status": "ok",
     "timestamp": 1594285780689,
     "user": {
      "displayName": "Дмитрий Яковлев",
      "photoUrl": "",
      "userId": "04985982272505825493"
     },
     "user_tz": -420
    },
    "id": "gdhBbKdhvw-m",
    "outputId": "367ff19a-f1c4-497e-f3aa-c5953c5f33a7"
   },
   "outputs": [
    {
     "name": "stdout",
     "output_type": "stream",
     "text": [
      "Введите значение выручки1000\n"
     ]
    }
   ],
   "source": [
    "revenue=int(input('Введите значение выручки'))"
   ]
  },
  {
   "cell_type": "code",
   "execution_count": 5,
   "metadata": {
    "colab": {
     "base_uri": "https://localhost:8080/",
     "height": 35
    },
    "colab_type": "code",
    "executionInfo": {
     "elapsed": 6076,
     "status": "ok",
     "timestamp": 1594285788178,
     "user": {
      "displayName": "Дмитрий Яковлев",
      "photoUrl": "",
      "userId": "04985982272505825493"
     },
     "user_tz": -420
    },
    "id": "OAI4qFFrwoYM",
    "outputId": "5afb08af-fd21-4c55-ee93-e810c73d0c3c"
   },
   "outputs": [
    {
     "name": "stdout",
     "output_type": "stream",
     "text": [
      "Введите значение издержек100\n"
     ]
    }
   ],
   "source": [
    "costs=int(input('Введите значение издержек'))"
   ]
  },
  {
   "cell_type": "code",
   "execution_count": 8,
   "metadata": {
    "colab": {
     "base_uri": "https://localhost:8080/",
     "height": 87
    },
    "colab_type": "code",
    "executionInfo": {
     "elapsed": 8010,
     "status": "ok",
     "timestamp": 1594285868871,
     "user": {
      "displayName": "Дмитрий Яковлев",
      "photoUrl": "",
      "userId": "04985982272505825493"
     },
     "user_tz": -420
    },
    "id": "w5zbdQu-133G",
    "outputId": "a04482cd-dd24-460a-8498-cc8cc46c37a3"
   },
   "outputs": [
    {
     "name": "stdout",
     "output_type": "stream",
     "text": [
      "Введите количество сотрудников10\n",
      "Ваша компания получила прибыль\n",
      "Рентабельность выручки составила 9.000\n",
      "Если Вы раздадите прибыль сотрудникам, их выручка составит 90 $\n"
     ]
    }
   ],
   "source": [
    "if revenue>=costs:\n",
    "    n=int(input('Введите количество сотрудников'))\n",
    "    print('Ваша компания получила прибыль')\n",
    "    print(f\"Рентабельность выручки составила {int((revenue-costs)/costs):.3f}\") # про округление в задании не было, привел к int-у\n",
    "    print(f\"Если Вы раздадите прибыль сотрудникам, их выручка составит {int((revenue-costs)/n)} $\")\n",
    "else:\n",
    "    print('Ваша компания получила убыток')"
   ]
  },
  {
   "cell_type": "code",
   "execution_count": null,
   "metadata": {},
   "outputs": [],
   "source": []
  }
 ],
 "metadata": {
  "colab": {
   "authorship_tag": "ABX9TyPTzhzVWa2udqu+DkD/j9DS",
   "collapsed_sections": [],
   "name": "Lesson1_Test5.ipynb",
   "provenance": []
  },
  "kernelspec": {
   "display_name": "Python 3",
   "language": "python",
   "name": "python3"
  },
  "language_info": {
   "codemirror_mode": {
    "name": "ipython",
    "version": 3
   },
   "file_extension": ".py",
   "mimetype": "text/x-python",
   "name": "python",
   "nbconvert_exporter": "python",
   "pygments_lexer": "ipython3",
   "version": "3.7.6"
  }
 },
 "nbformat": 4,
 "nbformat_minor": 1
}
