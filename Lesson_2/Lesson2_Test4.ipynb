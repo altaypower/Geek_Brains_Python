{
 "cells": [
  {
   "cell_type": "markdown",
   "metadata": {},
   "source": [
    "Пользователь вводит строку из нескольких слов, разделённых пробелами. Вывести каждое слово с новой строки. Строки необходимо пронумеровать. Если в слово длинное, выводить только первые 10 букв в слове."
   ]
  },
  {
   "cell_type": "code",
   "execution_count": 4,
   "metadata": {
    "colab": {
     "base_uri": "https://localhost:8080/",
     "height": 35
    },
    "colab_type": "code",
    "executionInfo": {
     "elapsed": 40684,
     "status": "ok",
     "timestamp": 1594620903626,
     "user": {
      "displayName": "Дмитрий Яковлев",
      "photoUrl": "",
      "userId": "04985982272505825493"
     },
     "user_tz": -420
    },
    "id": "YStqMRmOwF5r",
    "outputId": "09b2e085-752a-44b8-a1c5-7f91c4767ad1"
   },
   "outputs": [
    {
     "name": "stdout",
     "output_type": "stream",
     "text": [
      "1234567891011 aa aaa\n"
     ]
    }
   ],
   "source": [
    "a=input(\"Введите строку из нескольких слов\").split()"
   ]
  },
  {
   "cell_type": "code",
   "execution_count": 5,
   "metadata": {
    "colab": {
     "base_uri": "https://localhost:8080/",
     "height": 69
    },
    "colab_type": "code",
    "executionInfo": {
     "elapsed": 670,
     "status": "ok",
     "timestamp": 1594620906313,
     "user": {
      "displayName": "Дмитрий Яковлев",
      "photoUrl": "",
      "userId": "04985982272505825493"
     },
     "user_tz": -420
    },
    "id": "0JfI4EJOzWuS",
    "outputId": "e25ca052-1b72-42b4-a433-252019cb471f"
   },
   "outputs": [
    {
     "name": "stdout",
     "output_type": "stream",
     "text": [
      "1 1234567891\n",
      "2 aa\n",
      "3 aaa\n"
     ]
    }
   ],
   "source": [
    "for c, value in enumerate(a, 1):\n",
    "    print(c, value[:10])"
   ]
  }
 ],
 "metadata": {
  "colab": {
   "authorship_tag": "ABX9TyNB8X8uGbm4uu5vlLOwnBgB",
   "collapsed_sections": [],
   "name": "Lesson2_Test4.ipynb",
   "provenance": []
  },
  "kernelspec": {
   "display_name": "Python 3",
   "language": "python",
   "name": "python3"
  },
  "language_info": {
   "codemirror_mode": {
    "name": "ipython",
    "version": 3
   },
   "file_extension": ".py",
   "mimetype": "text/x-python",
   "name": "python",
   "nbconvert_exporter": "python",
   "pygments_lexer": "ipython3",
   "version": "3.7.6"
  }
 },
 "nbformat": 4,
 "nbformat_minor": 1
}
