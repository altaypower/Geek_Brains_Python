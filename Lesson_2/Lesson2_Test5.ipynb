{
 "cells": [
  {
   "cell_type": "markdown",
   "metadata": {},
   "source": [
    "Реализовать структуру «Рейтинг», представляющую собой не возрастающий набор натуральных чисел. У пользователя необходимо запрашивать новый элемент рейтинга. Если в рейтинге существуют элементы с одинаковыми значениями, то новый элемент с тем же значением должен разместиться после них."
   ]
  },
  {
   "cell_type": "code",
   "execution_count": 22,
   "metadata": {
    "colab": {},
    "colab_type": "code",
    "executionInfo": {
     "elapsed": 972,
     "status": "ok",
     "timestamp": 1594623639529,
     "user": {
      "displayName": "Дмитрий Яковлев",
      "photoUrl": "",
      "userId": "04985982272505825493"
     },
     "user_tz": -420
    },
    "id": "Ozxnz_VU1wJp"
   },
   "outputs": [],
   "source": [
    "my_list = [7, 5, 3, 3, 2]"
   ]
  },
  {
   "cell_type": "code",
   "execution_count": 23,
   "metadata": {
    "colab": {
     "base_uri": "https://localhost:8080/",
     "height": 35
    },
    "colab_type": "code",
    "executionInfo": {
     "elapsed": 5926,
     "status": "ok",
     "timestamp": 1594623654402,
     "user": {
      "displayName": "Дмитрий Яковлев",
      "photoUrl": "",
      "userId": "04985982272505825493"
     },
     "user_tz": -420
    },
    "id": "q17jCZ9S2GDN",
    "outputId": "21ef86c5-fb62-430d-f034-c51aa0d85dbe"
   },
   "outputs": [
    {
     "name": "stdout",
     "output_type": "stream",
     "text": [
      "Введите новый элемент рейтинга8\n"
     ]
    }
   ],
   "source": [
    "n=int(input('Введите новый элемент рейтинга'))"
   ]
  },
  {
   "cell_type": "code",
   "execution_count": 24,
   "metadata": {
    "colab": {},
    "colab_type": "code",
    "executionInfo": {
     "elapsed": 1000,
     "status": "ok",
     "timestamp": 1594623657947,
     "user": {
      "displayName": "Дмитрий Яковлев",
      "photoUrl": "",
      "userId": "04985982272505825493"
     },
     "user_tz": -420
    },
    "id": "iN_GmAlE2c-x"
   },
   "outputs": [],
   "source": [
    "n=float(n)"
   ]
  },
  {
   "cell_type": "code",
   "execution_count": 25,
   "metadata": {
    "colab": {
     "base_uri": "https://localhost:8080/",
     "height": 35
    },
    "colab_type": "code",
    "executionInfo": {
     "elapsed": 1049,
     "status": "ok",
     "timestamp": 1594623661721,
     "user": {
      "displayName": "Дмитрий Яковлев",
      "photoUrl": "",
      "userId": "04985982272505825493"
     },
     "user_tz": -420
    },
    "id": "vs8V3Sdq2oDY",
    "outputId": "46475ea9-d99f-481f-f13e-16577b1a422b"
   },
   "outputs": [
    {
     "data": {
      "text/plain": [
       "[8.0]"
      ]
     },
     "execution_count": 25,
     "metadata": {
      "tags": []
     },
     "output_type": "execute_result"
    }
   ],
   "source": [
    "b=[n]\n",
    "b"
   ]
  },
  {
   "cell_type": "code",
   "execution_count": 26,
   "metadata": {
    "colab": {},
    "colab_type": "code",
    "executionInfo": {
     "elapsed": 858,
     "status": "ok",
     "timestamp": 1594623822399,
     "user": {
      "displayName": "Дмитрий Яковлев",
      "photoUrl": "",
      "userId": "04985982272505825493"
     },
     "user_tz": -420
    },
    "id": "Xg72xODe73Ql"
   },
   "outputs": [],
   "source": [
    "a=[]"
   ]
  },
  {
   "cell_type": "code",
   "execution_count": 27,
   "metadata": {
    "colab": {},
    "colab_type": "code",
    "executionInfo": {
     "elapsed": 522,
     "status": "ok",
     "timestamp": 1594623823814,
     "user": {
      "displayName": "Дмитрий Яковлев",
      "photoUrl": "",
      "userId": "04985982272505825493"
     },
     "user_tz": -420
    },
    "id": "Y2M1M-q-756Y"
   },
   "outputs": [],
   "source": [
    "c=[]"
   ]
  },
  {
   "cell_type": "code",
   "execution_count": 28,
   "metadata": {
    "colab": {},
    "colab_type": "code",
    "executionInfo": {
     "elapsed": 854,
     "status": "ok",
     "timestamp": 1594623827105,
     "user": {
      "displayName": "Дмитрий Яковлев",
      "photoUrl": "",
      "userId": "04985982272505825493"
     },
     "user_tz": -420
    },
    "id": "nl0coNBR20Hl"
   },
   "outputs": [],
   "source": [
    "for i in my_list:\n",
    "    if i >= n:\n",
    "        a.append(i)\n",
    "    else:\n",
    "        c.append(i)"
   ]
  },
  {
   "cell_type": "code",
   "execution_count": 29,
   "metadata": {
    "colab": {},
    "colab_type": "code",
    "executionInfo": {
     "elapsed": 839,
     "status": "ok",
     "timestamp": 1594623832545,
     "user": {
      "displayName": "Дмитрий Яковлев",
      "photoUrl": "",
      "userId": "04985982272505825493"
     },
     "user_tz": -420
    },
    "id": "DjxvMTlO9Jj4"
   },
   "outputs": [],
   "source": [
    "res_list=[]"
   ]
  },
  {
   "cell_type": "code",
   "execution_count": 30,
   "metadata": {
    "colab": {
     "base_uri": "https://localhost:8080/",
     "height": 35
    },
    "colab_type": "code",
    "executionInfo": {
     "elapsed": 931,
     "status": "ok",
     "timestamp": 1594623835827,
     "user": {
      "displayName": "Дмитрий Яковлев",
      "photoUrl": "",
      "userId": "04985982272505825493"
     },
     "user_tz": -420
    },
    "id": "NyLvy7KM9hvJ",
    "outputId": "de76b06a-d342-487e-9167-7caedca65487"
   },
   "outputs": [
    {
     "data": {
      "text/plain": [
       "[[], [8.0], [7, 5, 3, 3, 2]]"
      ]
     },
     "execution_count": 30,
     "metadata": {
      "tags": []
     },
     "output_type": "execute_result"
    }
   ],
   "source": [
    "res_list.append(a)\n",
    "res_list.append(b)\n",
    "res_list.append(c)\n",
    "res_list"
   ]
  },
  {
   "cell_type": "code",
   "execution_count": 31,
   "metadata": {
    "colab": {
     "base_uri": "https://localhost:8080/",
     "height": 35
    },
    "colab_type": "code",
    "executionInfo": {
     "elapsed": 856,
     "status": "ok",
     "timestamp": 1594623842213,
     "user": {
      "displayName": "Дмитрий Яковлев",
      "photoUrl": "",
      "userId": "04985982272505825493"
     },
     "user_tz": -420
    },
    "id": "roe7_pJl94hw",
    "outputId": "078c2846-8ed5-4ea2-f509-d60fa08849f7"
   },
   "outputs": [
    {
     "name": "stdout",
     "output_type": "stream",
     "text": [
      "[8.0, 7, 5, 3, 3, 2]\n"
     ]
    }
   ],
   "source": [
    "print(sum(res_list, []))"
   ]
  }
 ],
 "metadata": {
  "colab": {
   "authorship_tag": "ABX9TyOcWDjsOCO7pxL7yJ/PsV06",
   "collapsed_sections": [],
   "name": "Lesson2_Test5.ipynb",
   "provenance": []
  },
  "kernelspec": {
   "display_name": "Python 3",
   "language": "python",
   "name": "python3"
  },
  "language_info": {
   "codemirror_mode": {
    "name": "ipython",
    "version": 3
   },
   "file_extension": ".py",
   "mimetype": "text/x-python",
   "name": "python",
   "nbconvert_exporter": "python",
   "pygments_lexer": "ipython3",
   "version": "3.7.6"
  }
 },
 "nbformat": 4,
 "nbformat_minor": 1
}
