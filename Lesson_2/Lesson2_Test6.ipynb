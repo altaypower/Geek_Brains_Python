{
 "cells": [
  {
   "cell_type": "markdown",
   "metadata": {},
   "source": [
    "Реализовать структуру данных «Товары». Она должна представлять собой список кортежей. Каждый кортеж хранит информацию об отдельном товаре. В кортеже должно быть два элемента — номер товара и словарь с параметрами (характеристиками товара: название, цена, количество, единица измерения). Структуру нужно сформировать программно, т.е. запрашивать все данные у пользователя."
   ]
  },
  {
   "cell_type": "code",
   "execution_count": 39,
   "metadata": {
    "colab": {},
    "colab_type": "code",
    "executionInfo": {
     "elapsed": 683,
     "status": "ok",
     "timestamp": 1594628862318,
     "user": {
      "displayName": "Дмитрий Яковлев",
      "photoUrl": "",
      "userId": "04985982272505825493"
     },
     "user_tz": -420
    },
    "id": "siDY7ek7BAvj"
   },
   "outputs": [],
   "source": [
    "a=[]\n",
    "yes_no='да'\n",
    "n=0"
   ]
  },
  {
   "cell_type": "code",
   "execution_count": 40,
   "metadata": {
    "colab": {
     "base_uri": "https://localhost:8080/",
     "height": 225
    },
    "colab_type": "code",
    "executionInfo": {
     "elapsed": 54196,
     "status": "ok",
     "timestamp": 1594628921545,
     "user": {
      "displayName": "Дмитрий Яковлев",
      "photoUrl": "",
      "userId": "04985982272505825493"
     },
     "user_tz": -420
    },
    "id": "3E14n8h_BH-J",
    "outputId": "4801fc0c-899a-4dff-a478-ede8bc2af7c9"
   },
   "outputs": [
    {
     "name": "stdout",
     "output_type": "stream",
     "text": [
      "Введите название товаракомп\n",
      "Введите цену товара20000\n",
      "Введите количество товара2\n",
      "Введите единицу измеренияшт.\n",
      "Хотите продолжить? (да/нет)да\n",
      "Введите название товаракамера\n",
      "Введите цену товара10000\n",
      "Введите количество товара3\n",
      "Введите единицу измеренияшт.\n",
      "Хотите продолжить? (да/нет)нет\n"
     ]
    },
    {
     "data": {
      "text/plain": [
       "[(1, {'ед.': 'шт.', 'количество': 2, 'название': 'комп', 'цена': 20000}),\n",
       " (2, {'ед.': 'шт.', 'количество': 3, 'название': 'камера', 'цена': 10000})]"
      ]
     },
     "execution_count": 40,
     "metadata": {
      "tags": []
     },
     "output_type": "execute_result"
    }
   ],
   "source": [
    "while yes_no != 'нет':\n",
    "    b=dict()\n",
    "    n+=1\n",
    "    b['название']=input('Введите название товара')\n",
    "    b['цена']=int(input('Введите цену товара'))\n",
    "    b['количество']=int(input('Введите количество товара'))\n",
    "    b['ед.']=input('Введите единицу измерения')\n",
    "    a.append((n, b))\n",
    "    yes_no=input('Хотите продолжить? (да/нет)').lower()\n",
    "a"
   ]
  },
  {
   "cell_type": "code",
   "execution_count": 41,
   "metadata": {
    "colab": {
     "base_uri": "https://localhost:8080/",
     "height": 35
    },
    "colab_type": "code",
    "executionInfo": {
     "elapsed": 713,
     "status": "ok",
     "timestamp": 1594628928071,
     "user": {
      "displayName": "Дмитрий Яковлев",
      "photoUrl": "",
      "userId": "04985982272505825493"
     },
     "user_tz": -420
    },
    "id": "OoiqepPlHnWq",
    "outputId": "9f87cac2-6a3c-4a9b-b08b-54b57075dbe8"
   },
   "outputs": [
    {
     "data": {
      "text/plain": [
       "{'ед.': [], 'количество': [], 'название': [], 'цена': []}"
      ]
     },
     "execution_count": 41,
     "metadata": {
      "tags": []
     },
     "output_type": "execute_result"
    }
   ],
   "source": [
    "res={'название': [], 'цена': [], 'количество': [], 'ед.': []}\n",
    "res"
   ]
  },
  {
   "cell_type": "code",
   "execution_count": 42,
   "metadata": {
    "colab": {
     "base_uri": "https://localhost:8080/",
     "height": 87
    },
    "colab_type": "code",
    "executionInfo": {
     "elapsed": 685,
     "status": "ok",
     "timestamp": 1594628937433,
     "user": {
      "displayName": "Дмитрий Яковлев",
      "photoUrl": "",
      "userId": "04985982272505825493"
     },
     "user_tz": -420
    },
    "id": "BVM9nrGgJ6Sc",
    "outputId": "43234845-d64f-47b6-e2b0-1d90d54ef471"
   },
   "outputs": [
    {
     "data": {
      "text/plain": [
       "{'ед.': ['шт.', 'шт.'],\n",
       " 'количество': [2, 3],\n",
       " 'название': ['комп', 'камера'],\n",
       " 'цена': [20000, 10000]}"
      ]
     },
     "execution_count": 42,
     "metadata": {
      "tags": []
     },
     "output_type": "execute_result"
    }
   ],
   "source": [
    "for i in range(len(a)):\n",
    "    for key in a[i][1]:\n",
    "        res[key].append(a[i][1][key])\n",
    "res\n",
    "    \n"
   ]
  }
 ],
 "metadata": {
  "colab": {
   "authorship_tag": "ABX9TyONq/pJxJ6aTvwItRVFDxXA",
   "name": "Lesson2_Test6.ipynb",
   "provenance": []
  },
  "kernelspec": {
   "display_name": "Python 3",
   "language": "python",
   "name": "python3"
  },
  "language_info": {
   "codemirror_mode": {
    "name": "ipython",
    "version": 3
   },
   "file_extension": ".py",
   "mimetype": "text/x-python",
   "name": "python",
   "nbconvert_exporter": "python",
   "pygments_lexer": "ipython3",
   "version": "3.7.6"
  }
 },
 "nbformat": 4,
 "nbformat_minor": 1
}
