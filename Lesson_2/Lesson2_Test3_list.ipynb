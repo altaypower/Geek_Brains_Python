{
 "cells": [
  {
   "cell_type": "markdown",
   "metadata": {},
   "source": [
    "Пользователь вводит месяц в виде целого числа от 1 до 12. Сообщить к какому времени года относится месяц (зима, весна, лето, осень). Напишите решения через list и через dict."
   ]
  },
  {
   "cell_type": "code",
   "execution_count": 6,
   "metadata": {
    "colab": {},
    "colab_type": "code",
    "executionInfo": {
     "elapsed": 643,
     "status": "ok",
     "timestamp": 1594619354483,
     "user": {
      "displayName": "Дмитрий Яковлев",
      "photoUrl": "",
      "userId": "04985982272505825493"
     },
     "user_tz": -420
    },
    "id": "BgappryhgxQW"
   },
   "outputs": [],
   "source": [
    "a=[\"зима\", \"зима\", \"весна\", \"весна\", \"весна\", \"лето\", \"лето\", \"лето\", \"осень\", \"осень\", \"осень\", \"зима\"]"
   ]
  },
  {
   "cell_type": "code",
   "execution_count": 7,
   "metadata": {
    "colab": {
     "base_uri": "https://localhost:8080/",
     "height": 35
    },
    "colab_type": "code",
    "executionInfo": {
     "elapsed": 5629,
     "status": "ok",
     "timestamp": 1594619363026,
     "user": {
      "displayName": "Дмитрий Яковлев",
      "photoUrl": "",
      "userId": "04985982272505825493"
     },
     "user_tz": -420
    },
    "id": "gOXPap6ahyCb",
    "outputId": "3b64d21b-72e6-40ed-94a5-ddcfedf71253"
   },
   "outputs": [
    {
     "name": "stdout",
     "output_type": "stream",
     "text": [
      "Введите номер месяца15\n"
     ]
    }
   ],
   "source": [
    "n=int(input('Введите номер месяца'))"
   ]
  },
  {
   "cell_type": "code",
   "execution_count": 8,
   "metadata": {
    "colab": {
     "base_uri": "https://localhost:8080/",
     "height": 104
    },
    "colab_type": "code",
    "executionInfo": {
     "elapsed": 14183,
     "status": "ok",
     "timestamp": 1594619379747,
     "user": {
      "displayName": "Дмитрий Яковлев",
      "photoUrl": "",
      "userId": "04985982272505825493"
     },
     "user_tz": -420
    },
    "id": "oEVkJXKNiKrF",
    "outputId": "d3c7de7a-3641-4c39-d231-29c8cba5fb2b"
   },
   "outputs": [
    {
     "name": "stdout",
     "output_type": "stream",
     "text": [
      "Вы ввели неверное значение. Попробуйте снова.\n",
      "Введите номер месяца0\n",
      "Вы ввели неверное значение. Попробуйте снова.\n",
      "Введите номер месяца4\n",
      "Это весна\n"
     ]
    }
   ],
   "source": [
    "while n > 12 or n == 0:\n",
    "    print('Вы ввели неверное значение. Попробуйте снова.')\n",
    "    n=int(input('Введите номер месяца'))\n",
    "else:\n",
    "    print(f\"Это {a[n-1]}\")"
   ]
  }
 ],
 "metadata": {
  "colab": {
   "authorship_tag": "ABX9TyOYs6e2aqfW8AKvfUKeLqeg",
   "collapsed_sections": [],
   "name": "Lesson2_Test3_list.ipynb",
   "provenance": []
  },
  "kernelspec": {
   "display_name": "Python 3",
   "language": "python",
   "name": "python3"
  },
  "language_info": {
   "codemirror_mode": {
    "name": "ipython",
    "version": 3
   },
   "file_extension": ".py",
   "mimetype": "text/x-python",
   "name": "python",
   "nbconvert_exporter": "python",
   "pygments_lexer": "ipython3",
   "version": "3.7.6"
  }
 },
 "nbformat": 4,
 "nbformat_minor": 1
}
