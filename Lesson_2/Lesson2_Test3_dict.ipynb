{
 "cells": [
  {
   "cell_type": "markdown",
   "metadata": {},
   "source": [
    "Пользователь вводит месяц в виде целого числа от 1 до 12. Сообщить к какому времени года относится месяц (зима, весна, лето, осень). Напишите решения через list и через dict."
   ]
  },
  {
   "cell_type": "code",
   "execution_count": 2,
   "metadata": {
    "colab": {},
    "colab_type": "code",
    "executionInfo": {
     "elapsed": 752,
     "status": "ok",
     "timestamp": 1594619781128,
     "user": {
      "displayName": "Дмитрий Яковлев",
      "photoUrl": "",
      "userId": "04985982272505825493"
     },
     "user_tz": -420
    },
    "id": "M6t-jjb0u0Xz"
   },
   "outputs": [],
   "source": [
    "a={1: \"зима\", 2: \"зима\", 3: \"весна\", 4: \"весна\", 5: \"весна\", 6: \"лето\", 7: \"лето\", 8: \"лето\", 9: \"осень\", 10: \"осень\", 11: \"осень\", 12: \"зима\"}"
   ]
  },
  {
   "cell_type": "code",
   "execution_count": 3,
   "metadata": {
    "colab": {
     "base_uri": "https://localhost:8080/",
     "height": 35
    },
    "colab_type": "code",
    "executionInfo": {
     "elapsed": 7509,
     "status": "ok",
     "timestamp": 1594619791480,
     "user": {
      "displayName": "Дмитрий Яковлев",
      "photoUrl": "",
      "userId": "04985982272505825493"
     },
     "user_tz": -420
    },
    "id": "ge1mowssvU02",
    "outputId": "d03ff4bd-9c55-47fa-ae61-63899858901f"
   },
   "outputs": [
    {
     "name": "stdout",
     "output_type": "stream",
     "text": [
      "Введите номер месяца10\n"
     ]
    }
   ],
   "source": [
    "n=int(input('Введите номер месяца'))"
   ]
  },
  {
   "cell_type": "code",
   "execution_count": 4,
   "metadata": {
    "colab": {
     "base_uri": "https://localhost:8080/",
     "height": 35
    },
    "colab_type": "code",
    "executionInfo": {
     "elapsed": 865,
     "status": "ok",
     "timestamp": 1594619795056,
     "user": {
      "displayName": "Дмитрий Яковлев",
      "photoUrl": "",
      "userId": "04985982272505825493"
     },
     "user_tz": -420
    },
    "id": "-U4WWNaavWAa",
    "outputId": "39cf956f-a967-4df5-a83b-57c0331fbf9a"
   },
   "outputs": [
    {
     "name": "stdout",
     "output_type": "stream",
     "text": [
      "Это осень\n"
     ]
    }
   ],
   "source": [
    "while n > 12 or n == 0:\n",
    "    print('Вы ввели неверное значение. Попробуйте снова.')\n",
    "    n=int(input('Введите номер месяца'))\n",
    "else:\n",
    "    print(f\"Это {a[n]}\")"
   ]
  }
 ],
 "metadata": {
  "colab": {
   "authorship_tag": "ABX9TyPMyc+5LeYTDNdV0n8j4eSK",
   "collapsed_sections": [],
   "name": "Lesson2_Test3_dict.ipynb",
   "provenance": []
  },
  "kernelspec": {
   "display_name": "Python 3",
   "language": "python",
   "name": "python3"
  },
  "language_info": {
   "codemirror_mode": {
    "name": "ipython",
    "version": 3
   },
   "file_extension": ".py",
   "mimetype": "text/x-python",
   "name": "python",
   "nbconvert_exporter": "python",
   "pygments_lexer": "ipython3",
   "version": "3.7.6"
  }
 },
 "nbformat": 4,
 "nbformat_minor": 1
}
