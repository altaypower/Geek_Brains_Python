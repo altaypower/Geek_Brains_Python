{
 "cells": [
  {
   "cell_type": "markdown",
   "metadata": {},
   "source": [
    "Для списка реализовать обмен значений соседних элементов, т.е. Значениями обмениваются элементы с индексами 0 и 1, 2 и 3 и т.д. При нечетном количестве элементов последний сохранить на своем месте. Для заполнения списка элементов необходимо использовать функцию input()."
   ]
  },
  {
   "cell_type": "code",
   "execution_count": 5,
   "metadata": {
    "colab": {
     "base_uri": "https://localhost:8080/",
     "height": 35
    },
    "colab_type": "code",
    "executionInfo": {
     "elapsed": 6899,
     "status": "ok",
     "timestamp": 1594615340680,
     "user": {
      "displayName": "Дмитрий Яковлев",
      "photoUrl": "",
      "userId": "04985982272505825493"
     },
     "user_tz": -420
    },
    "id": "u2BiIdogV45C",
    "outputId": "635b1240-f49a-4c27-9a67-5918743ecd5e"
   },
   "outputs": [
    {
     "name": "stdout",
     "output_type": "stream",
     "text": [
      "Введите числа без пробела123456\n"
     ]
    }
   ],
   "source": [
    "a=list(input(\"Введите числа без пробела\"))"
   ]
  },
  {
   "cell_type": "code",
   "execution_count": 6,
   "metadata": {
    "colab": {
     "base_uri": "https://localhost:8080/",
     "height": 35
    },
    "colab_type": "code",
    "executionInfo": {
     "elapsed": 1008,
     "status": "ok",
     "timestamp": 1594615343634,
     "user": {
      "displayName": "Дмитрий Яковлев",
      "photoUrl": "",
      "userId": "04985982272505825493"
     },
     "user_tz": -420
    },
    "id": "jfwakspFWs61",
    "outputId": "22a90ec8-82ce-4a42-e2c9-3114f9786405"
   },
   "outputs": [],
   "source": [
    "for i in range(1, len(a), 2):\n",
    "    a[i-1], a[i] = a[i], a[i-1]\n",
    "    "
   ]
  },
  {
   "cell_type": "code",
   "execution_count": 7,
   "metadata": {},
   "outputs": [
    {
     "name": "stdout",
     "output_type": "stream",
     "text": [
      "['2', '1', '4', '3', '6', '5']\n"
     ]
    }
   ],
   "source": [
    "print(a)"
   ]
  },
  {
   "cell_type": "code",
   "execution_count": null,
   "metadata": {},
   "outputs": [],
   "source": []
  }
 ],
 "metadata": {
  "colab": {
   "authorship_tag": "ABX9TyO+Gp+l7cBWRssrvb2idTOZ",
   "collapsed_sections": [],
   "name": "Lesson2_Test2.ipynb",
   "provenance": []
  },
  "kernelspec": {
   "display_name": "Python 3",
   "language": "python",
   "name": "python3"
  },
  "language_info": {
   "codemirror_mode": {
    "name": "ipython",
    "version": 3
   },
   "file_extension": ".py",
   "mimetype": "text/x-python",
   "name": "python",
   "nbconvert_exporter": "python",
   "pygments_lexer": "ipython3",
   "version": "3.7.6"
  }
 },
 "nbformat": 4,
 "nbformat_minor": 1
}
